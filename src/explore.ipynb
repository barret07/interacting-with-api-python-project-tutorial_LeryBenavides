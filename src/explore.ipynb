{
    "cells": [
        {
            "cell_type": "markdown",
            "metadata": {},
            "source": [
                "# Explore here"
            ]
        },
        {
            "cell_type": "code",
            "execution_count": 4,
            "metadata": {},
            "outputs": [],
            "source": [
                "import os\n",
                "from dotenv import load_dotenv\n",
                "load_dotenv()\n",
                "\n",
                "client_id = os.environ.get(\"CLIENT_ID\")\n",
                "client_secret = os.environ.get(\"CLIENT_SECRET\")"
            ]
        },
        {
            "cell_type": "code",
            "execution_count": 5,
            "metadata": {},
            "outputs": [],
            "source": [
                "import spotipy\n",
                "from spotipy.oauth2 import SpotifyClientCredentials\n",
                "\n",
                "conex = spotipy.Spotify (auth_manager = SpotifyClientCredentials(client_id = client_id, client_secret = client_secret))"
            ]
        },
        {
            "cell_type": "code",
            "execution_count": 6,
            "metadata": {},
            "outputs": [
                {
                    "name": "stdout",
                    "output_type": "stream",
                    "text": [
                        "<bound method NDFrame.head of    duration_ms                                   name  popularity\n",
                        "8     3.250000     Married With Children - Remastered          57\n",
                        "5     5.931100               Stand By Me - Remastered          60\n",
                        "9     4.455550       Half The World Away - Remastered          62\n",
                        "6     4.729767                Supersonic - Remastered          63\n",
                        "7     3.682000            She's Electric - Remastered          63\n",
                        "2     5.052000             Stop Crying Your Heart Out          66\n",
                        "4     4.611100              Live Forever - Remastered          66\n",
                        "3     7.522000       Champagne Supernova - Remastered          67\n",
                        "1     4.826000  Don't Look Back In Anger - Remastered          72\n",
                        "0     4.312883                Wonderwall - Remastered          78>\n"
                    ]
                }
            ],
            "source": [
                "import pandas as pd\n",
                "\n",
                "my_favorite_artist = \"2DaxqgrOhkeH0fpeiQq2f4\"\n",
                "\n",
                "response = conex.artist_top_tracks (\"2DaxqgrOhkeH0fpeiQq2f4\")\n",
                "\n",
                "\n",
                "if response:\n",
                "    top_songs = response[\"tracks\"]\n",
                "    top_songs = [{k: ((v/(1000*60))) if k == \"duration_ms\" else v for k, v in \n",
                "               track.items() if k in [\"name\", \"popularity\", \"duration_ms\"]} for track in top_songs]\n",
                "    \n",
                "top_songs_df = pd.DataFrame.from_records(top_songs)\n",
                "top_songs_df.sort_values ([\"popularity\"], inplace = True)\n",
                "\n",
                "print (top_songs_df.head)"
            ]
        },
        {
            "cell_type": "code",
            "execution_count": 7,
            "metadata": {},
            "outputs": [
                {
                    "data": {
                        "image/png": "[encoded data removed]",
                        "text/plain": [
                            "<Figure size 640x480 with 1 Axes>"
                        ]
                    },
                    "metadata": {},
                    "output_type": "display_data"
                }
            ],
            "source": [
                "import seaborn as sns\n",
                "\n",
                "compare_plot = sns.scatterplot(data = top_songs_df, x = \"popularity\", y = \"duration_ms\")\n",
                "figure = compare_plot.get_figure()\n",
                "figure.savefig(\"scatter_plot.png\")"
            ]
        }
    ],
    "metadata": {
        "kernelspec": {
            "display_name": "Python 3.8.13 64-bit ('3.8.13')",
            "language": "python",
            "name": "python3"
        },
        "language_info": {
            "codemirror_mode": {
                "name": "ipython",
                "version": 3
            },
            "file_extension": ".py",
            "mimetype": "text/x-python",
            "name": "python",
            "nbconvert_exporter": "python",
            "pygments_lexer": "ipython3",
            "version": "3.11.4"
        },
        "orig_nbformat": 4,
        "vscode": {
            "interpreter": {
                "hash": "110cc1dee26208153f2972f08a2ad52b6a56238dc66d48e87fb757ef2996db56"
            }
        }
    },
    "nbformat": 4,
    "nbformat_minor": 2
}
